{
 "cells": [
  {
   "cell_type": "code",
   "execution_count": 1,
   "id": "2636f146",
   "metadata": {},
   "outputs": [
    {
     "name": "stdout",
     "output_type": "stream",
     "text": [
      "<class 'int'>\n"
     ]
    }
   ],
   "source": [
    "x = 1\n",
    "print(type(x)) "
   ]
  },
  {
   "cell_type": "code",
   "execution_count": 2,
   "id": "7753ceb5",
   "metadata": {},
   "outputs": [
    {
     "name": "stdout",
     "output_type": "stream",
     "text": [
      "<class 'str'>\n"
     ]
    }
   ],
   "source": [
    "print(type(\"hello\"))"
   ]
  },
  {
   "cell_type": "code",
   "execution_count": 3,
   "id": "50b84342",
   "metadata": {},
   "outputs": [
    {
     "name": "stdout",
     "output_type": "stream",
     "text": [
      "<class 'function'>\n"
     ]
    }
   ],
   "source": [
    "def hello():\n",
    "    return \"hello\"\n",
    "print(type(hello))"
   ]
  },
  {
   "cell_type": "code",
   "execution_count": 4,
   "id": "538525b8",
   "metadata": {},
   "outputs": [
    {
     "name": "stdout",
     "output_type": "stream",
     "text": [
      "HELLO\n"
     ]
    }
   ],
   "source": [
    "string = \"hello\"\n",
    "print(string.upper())"
   ]
  },
  {
   "cell_type": "code",
   "execution_count": 5,
   "id": "73259cd7",
   "metadata": {},
   "outputs": [
    {
     "name": "stdout",
     "output_type": "stream",
     "text": [
      "Woof!\n",
      "<class '__main__.Dog'>\n"
     ]
    }
   ],
   "source": [
    "class Dog :\n",
    "    def bark(self):\n",
    "        print(\"Woof!\")\n",
    "Max = Dog()\n",
    "Max.bark()\n",
    "print(type(Max))"
   ]
  },
  {
   "cell_type": "code",
   "execution_count": 6,
   "id": "af7e6f77",
   "metadata": {},
   "outputs": [],
   "source": [
    "class Cat :\n",
    "    def meow(self):\n",
    "        return \"meow\""
   ]
  },
  {
   "cell_type": "code",
   "execution_count": 7,
   "id": "90151602",
   "metadata": {},
   "outputs": [],
   "source": [
    "kitten = Cat()\n",
    "call = kitten.meow()"
   ]
  },
  {
   "cell_type": "code",
   "execution_count": 8,
   "id": "bb6dfb1b",
   "metadata": {},
   "outputs": [
    {
     "name": "stdout",
     "output_type": "stream",
     "text": [
      "meow\n"
     ]
    }
   ],
   "source": [
    "print(call)"
   ]
  },
  {
   "cell_type": "code",
   "execution_count": 9,
   "id": "d26cd673",
   "metadata": {},
   "outputs": [],
   "source": [
    "class Adder :\n",
    "    def add_one(self,x):\n",
    "        return x + 1\n",
    "adder = Adder()"
   ]
  },
  {
   "cell_type": "code",
   "execution_count": 10,
   "id": "f58c3cc6",
   "metadata": {},
   "outputs": [
    {
     "data": {
      "text/plain": [
       "6"
      ]
     },
     "execution_count": 10,
     "metadata": {},
     "output_type": "execute_result"
    }
   ],
   "source": [
    "adder.add_one(5)"
   ]
  },
  {
   "cell_type": "code",
   "execution_count": 11,
   "id": "e14416ed",
   "metadata": {},
   "outputs": [],
   "source": [
    "class Person :\n",
    "    def __init__(self, name, age, siblings):\n",
    "        self.name = name\n",
    "        self.age = age\n",
    "        self.siblings = siblings\n",
    "    def greet(self):\n",
    "        return \"hello\" + \" \" + self.name\n",
    "    def noc(self):\n",
    "        return self.name + \" has \" + str(self.siblings) + \" children\"\n",
    "    def set_age(self, age):\n",
    "        self.age = age"
   ]
  },
  {
   "cell_type": "code",
   "execution_count": 12,
   "id": "5a9ffaf3",
   "metadata": {},
   "outputs": [],
   "source": [
    "p1 = Person(\"Tim\",34,5)"
   ]
  },
  {
   "cell_type": "code",
   "execution_count": 13,
   "id": "c74f9a92",
   "metadata": {},
   "outputs": [
    {
     "name": "stdout",
     "output_type": "stream",
     "text": [
      "Tim, 34\n"
     ]
    }
   ],
   "source": [
    "print(p1.name + \", \" + str(p1.age))"
   ]
  },
  {
   "cell_type": "code",
   "execution_count": 14,
   "id": "a472d388",
   "metadata": {},
   "outputs": [
    {
     "data": {
      "text/plain": [
       "'hello Tim'"
      ]
     },
     "execution_count": 14,
     "metadata": {},
     "output_type": "execute_result"
    }
   ],
   "source": [
    "p1.greet()"
   ]
  },
  {
   "cell_type": "code",
   "execution_count": 15,
   "id": "a2f8f370",
   "metadata": {},
   "outputs": [
    {
     "data": {
      "text/plain": [
       "'Tim has 5 children'"
      ]
     },
     "execution_count": 15,
     "metadata": {},
     "output_type": "execute_result"
    }
   ],
   "source": [
    "p1.noc()"
   ]
  },
  {
   "cell_type": "code",
   "execution_count": 16,
   "id": "b6bedb05",
   "metadata": {},
   "outputs": [],
   "source": [
    "p1.set_age(35)"
   ]
  },
  {
   "cell_type": "code",
   "execution_count": 17,
   "id": "662f95a8",
   "metadata": {},
   "outputs": [
    {
     "name": "stdout",
     "output_type": "stream",
     "text": [
      "35\n"
     ]
    }
   ],
   "source": [
    "print(p1.age)"
   ]
  },
  {
   "cell_type": "code",
   "execution_count": null,
   "id": "a99b925a",
   "metadata": {},
   "outputs": [],
   "source": []
  }
 ],
 "metadata": {
  "kernelspec": {
   "display_name": "torch",
   "language": "python",
   "name": "python3"
  },
  "language_info": {
   "codemirror_mode": {
    "name": "ipython",
    "version": 3
   },
   "file_extension": ".py",
   "mimetype": "text/x-python",
   "name": "python",
   "nbconvert_exporter": "python",
   "pygments_lexer": "ipython3",
   "version": "3.10.16"
  }
 },
 "nbformat": 4,
 "nbformat_minor": 5
}
