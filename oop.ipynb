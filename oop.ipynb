{
 "cells": [
  {
   "cell_type": "code",
   "execution_count": 1,
   "id": "2636f146",
   "metadata": {},
   "outputs": [
    {
     "name": "stdout",
     "output_type": "stream",
     "text": [
      "<class 'int'>\n"
     ]
    }
   ],
   "source": [
    "x = 1\n",
    "print(type(x)) "
   ]
  },
  {
   "cell_type": "code",
   "execution_count": 2,
   "id": "7753ceb5",
   "metadata": {},
   "outputs": [
    {
     "name": "stdout",
     "output_type": "stream",
     "text": [
      "<class 'str'>\n"
     ]
    }
   ],
   "source": [
    "print(type(\"hello\"))"
   ]
  },
  {
   "cell_type": "code",
   "execution_count": 3,
   "id": "50b84342",
   "metadata": {},
   "outputs": [
    {
     "name": "stdout",
     "output_type": "stream",
     "text": [
      "<class 'function'>\n"
     ]
    }
   ],
   "source": [
    "def hello():\n",
    "    return \"hello\"\n",
    "print(type(hello))"
   ]
  },
  {
   "cell_type": "code",
   "execution_count": 4,
   "id": "538525b8",
   "metadata": {},
   "outputs": [
    {
     "name": "stdout",
     "output_type": "stream",
     "text": [
      "HELLO\n"
     ]
    }
   ],
   "source": [
    "string = \"hello\"\n",
    "print(string.upper())"
   ]
  },
  {
   "cell_type": "code",
   "execution_count": 5,
   "id": "73259cd7",
   "metadata": {},
   "outputs": [
    {
     "name": "stdout",
     "output_type": "stream",
     "text": [
      "Woof!\n",
      "<class '__main__.Dog'>\n"
     ]
    }
   ],
   "source": [
    "class Dog :\n",
    "    def bark(self):\n",
    "        print(\"Woof!\")\n",
    "Max = Dog()\n",
    "Max.bark()\n",
    "print(type(Max))"
   ]
  },
  {
   "cell_type": "code",
   "execution_count": 6,
   "id": "af7e6f77",
   "metadata": {},
   "outputs": [],
   "source": [
    "class Cat :\n",
    "    def meow(self):\n",
    "        return \"meow\""
   ]
  },
  {
   "cell_type": "code",
   "execution_count": 7,
   "id": "90151602",
   "metadata": {},
   "outputs": [],
   "source": [
    "kitten = Cat()\n",
    "call = kitten.meow()"
   ]
  },
  {
   "cell_type": "code",
   "execution_count": 8,
   "id": "bb6dfb1b",
   "metadata": {},
   "outputs": [
    {
     "name": "stdout",
     "output_type": "stream",
     "text": [
      "meow\n"
     ]
    }
   ],
   "source": [
    "print(call)"
   ]
  },
  {
   "cell_type": "code",
   "execution_count": 9,
   "id": "d26cd673",
   "metadata": {},
   "outputs": [],
   "source": [
    "class Adder :\n",
    "    def add_one(self,x):\n",
    "        return x + 1\n",
    "adder = Adder()"
   ]
  },
  {
   "cell_type": "code",
   "execution_count": 10,
   "id": "f58c3cc6",
   "metadata": {},
   "outputs": [
    {
     "data": {
      "text/plain": [
       "6"
      ]
     },
     "execution_count": 10,
     "metadata": {},
     "output_type": "execute_result"
    }
   ],
   "source": [
    "adder.add_one(5)"
   ]
  },
  {
   "cell_type": "code",
   "execution_count": 11,
   "id": "e14416ed",
   "metadata": {},
   "outputs": [],
   "source": [
    "class Person :\n",
    "    def __init__(self, name, age, siblings):\n",
    "        self.name = name\n",
    "        self.age = age\n",
    "        self.siblings = siblings\n",
    "    def greet(self):\n",
    "        return \"hello\" + \" \" + self.name\n",
    "    def noc(self):\n",
    "        return self.name + \" has \" + str(self.siblings) + \" children\"\n",
    "    def set_age(self, age):\n",
    "        self.age = age"
   ]
  },
  {
   "cell_type": "code",
   "execution_count": 12,
   "id": "5a9ffaf3",
   "metadata": {},
   "outputs": [],
   "source": [
    "p1 = Person(\"Tim\",34,5)"
   ]
  },
  {
   "cell_type": "code",
   "execution_count": 13,
   "id": "c74f9a92",
   "metadata": {},
   "outputs": [
    {
     "name": "stdout",
     "output_type": "stream",
     "text": [
      "Tim, 34\n"
     ]
    }
   ],
   "source": [
    "print(p1.name + \", \" + str(p1.age))"
   ]
  },
  {
   "cell_type": "code",
   "execution_count": 14,
   "id": "a472d388",
   "metadata": {},
   "outputs": [
    {
     "data": {
      "text/plain": [
       "'hello Tim'"
      ]
     },
     "execution_count": 14,
     "metadata": {},
     "output_type": "execute_result"
    }
   ],
   "source": [
    "p1.greet()"
   ]
  },
  {
   "cell_type": "code",
   "execution_count": 15,
   "id": "a2f8f370",
   "metadata": {},
   "outputs": [
    {
     "data": {
      "text/plain": [
       "'Tim has 5 children'"
      ]
     },
     "execution_count": 15,
     "metadata": {},
     "output_type": "execute_result"
    }
   ],
   "source": [
    "p1.noc()"
   ]
  },
  {
   "cell_type": "code",
   "execution_count": 16,
   "id": "b6bedb05",
   "metadata": {},
   "outputs": [],
   "source": [
    "p1.set_age(35)"
   ]
  },
  {
   "cell_type": "code",
   "execution_count": 17,
   "id": "662f95a8",
   "metadata": {},
   "outputs": [
    {
     "name": "stdout",
     "output_type": "stream",
     "text": [
      "35\n"
     ]
    }
   ],
   "source": [
    "print(p1.age)"
   ]
  },
  {
   "cell_type": "code",
   "execution_count": 18,
   "id": "a99b925a",
   "metadata": {},
   "outputs": [],
   "source": [
    "class Student ():\n",
    "    def __init__(self, name, age, grade):\n",
    "        self.name = name\n",
    "        self.age = age\n",
    "        self.grade = grade\n",
    "    def get_grade(self):\n",
    "        return self.grade\n",
    "class Course ():\n",
    "    def __init__(self, name, max_student):\n",
    "        self.name = name\n",
    "        self.max_students = max_student\n",
    "        self.students = []\n",
    "    def add_students(self,student):\n",
    "        if len(self.students) < self.max_students :\n",
    "            self.students.append(student)\n",
    "            return True\n",
    "        return False\n",
    "    def get_avg_grade(self):\n",
    "        sum = 0\n",
    "        for student in self.students:\n",
    "            sum += student.grade\n",
    "        return sum / len(self.students)"
   ]
  },
  {
   "cell_type": "code",
   "execution_count": 19,
   "id": "ee64668d",
   "metadata": {},
   "outputs": [],
   "source": [
    "s1 = Student('Tim', 17, 76)\n",
    "s2 = Student('Max', 19, 66)\n",
    "s3 = Student('Roro', 20, 100)"
   ]
  },
  {
   "cell_type": "code",
   "execution_count": 20,
   "id": "99062f3e",
   "metadata": {},
   "outputs": [],
   "source": [
    "history = Course('history', 3)"
   ]
  },
  {
   "cell_type": "code",
   "execution_count": 21,
   "id": "c992e241",
   "metadata": {},
   "outputs": [
    {
     "data": {
      "text/plain": [
       "True"
      ]
     },
     "execution_count": 21,
     "metadata": {},
     "output_type": "execute_result"
    }
   ],
   "source": [
    "history.add_students(s1)\n",
    "history.add_students(s2)\n",
    "history.add_students(s3)"
   ]
  },
  {
   "cell_type": "code",
   "execution_count": 22,
   "id": "33fd7dd8",
   "metadata": {},
   "outputs": [
    {
     "name": "stdout",
     "output_type": "stream",
     "text": [
      "Tim\n"
     ]
    }
   ],
   "source": [
    "print(history.students[0].name)"
   ]
  },
  {
   "cell_type": "code",
   "execution_count": 23,
   "id": "dd4a024a",
   "metadata": {},
   "outputs": [
    {
     "data": {
      "text/plain": [
       "False"
      ]
     },
     "execution_count": 23,
     "metadata": {},
     "output_type": "execute_result"
    }
   ],
   "source": [
    "s4 = Student('Abdo', 24, 80)\n",
    "history.add_students(s4)"
   ]
  },
  {
   "cell_type": "code",
   "execution_count": 24,
   "id": "cff24b22",
   "metadata": {},
   "outputs": [
    {
     "data": {
      "text/plain": [
       "'Roro'"
      ]
     },
     "execution_count": 24,
     "metadata": {},
     "output_type": "execute_result"
    }
   ],
   "source": [
    "history.students[2].name"
   ]
  },
  {
   "cell_type": "code",
   "execution_count": 25,
   "id": "bd8684dd",
   "metadata": {},
   "outputs": [
    {
     "name": "stdout",
     "output_type": "stream",
     "text": [
      "80.66666666666667\n"
     ]
    }
   ],
   "source": [
    "print(history.get_avg_grade())"
   ]
  },
  {
   "cell_type": "code",
   "execution_count": 26,
   "id": "fe456223",
   "metadata": {},
   "outputs": [],
   "source": [
    "class Pet :\n",
    "    def __init__(self, name, age):\n",
    "        self.name = name\n",
    "        self.age = age\n",
    "    def print_info(self):\n",
    "        print(f\"The animal's name is {self.name} and it's {self.age} years old\")\n",
    "class Dog(Pet):\n",
    "    def speak(self):\n",
    "        print(\"Bark\")"
   ]
  },
  {
   "cell_type": "code",
   "execution_count": 27,
   "id": "21036ecf",
   "metadata": {},
   "outputs": [],
   "source": [
    "p1 = Pet('Sunny', 1)"
   ]
  },
  {
   "cell_type": "code",
   "execution_count": 28,
   "id": "4cbed73b",
   "metadata": {},
   "outputs": [
    {
     "name": "stdout",
     "output_type": "stream",
     "text": [
      "The animal's name is Sunny and it's 1 years old\n"
     ]
    }
   ],
   "source": [
    "p1.print_info()"
   ]
  },
  {
   "cell_type": "code",
   "execution_count": 29,
   "id": "d49e7d15",
   "metadata": {},
   "outputs": [],
   "source": [
    "d1 = Dog('Goldie', 1)"
   ]
  },
  {
   "cell_type": "code",
   "execution_count": 30,
   "id": "c18f6b96",
   "metadata": {},
   "outputs": [
    {
     "name": "stdout",
     "output_type": "stream",
     "text": [
      "The animal's name is Goldie and it's 1 years old\n"
     ]
    }
   ],
   "source": [
    "d1.print_info()"
   ]
  },
  {
   "cell_type": "code",
   "execution_count": 31,
   "id": "85420bd2",
   "metadata": {},
   "outputs": [],
   "source": [
    "class Bird(Pet):\n",
    "    def __init__(self, name, age, color):\n",
    "        super().__init__(name, age)\n",
    "        self.color = color\n",
    "    def print_info(self):\n",
    "        print(f\"The animal's name is {self.name} and it's {self.age} years old and it's color is {self.color}\")\n",
    "    def speak(self):\n",
    "        print(\"zew zew\")"
   ]
  },
  {
   "cell_type": "code",
   "execution_count": 32,
   "id": "0c4fc816",
   "metadata": {},
   "outputs": [],
   "source": [
    "b1 = Bird('soso', 2, 'blue')"
   ]
  },
  {
   "cell_type": "code",
   "execution_count": 33,
   "id": "3537fc21",
   "metadata": {},
   "outputs": [
    {
     "name": "stdout",
     "output_type": "stream",
     "text": [
      "The animal's name is soso and it's 2 years old and it's color is blue\n",
      "zew zew\n"
     ]
    }
   ],
   "source": [
    "b1.print_info()\n",
    "b1.speak()"
   ]
  },
  {
   "cell_type": "code",
   "execution_count": null,
   "id": "1994392e",
   "metadata": {},
   "outputs": [],
   "source": []
  }
 ],
 "metadata": {
  "kernelspec": {
   "display_name": "torch",
   "language": "python",
   "name": "python3"
  },
  "language_info": {
   "codemirror_mode": {
    "name": "ipython",
    "version": 3
   },
   "file_extension": ".py",
   "mimetype": "text/x-python",
   "name": "python",
   "nbconvert_exporter": "python",
   "pygments_lexer": "ipython3",
   "version": "3.10.16"
  }
 },
 "nbformat": 4,
 "nbformat_minor": 5
}
